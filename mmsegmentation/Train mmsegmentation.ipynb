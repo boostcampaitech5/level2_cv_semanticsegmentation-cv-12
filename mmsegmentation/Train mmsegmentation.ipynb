{
 "cells": [
  {
   "cell_type": "markdown",
   "id": "63a83355",
   "metadata": {},
   "source": [
    "# Import"
   ]
  },
  {
   "cell_type": "code",
   "execution_count": 5,
   "metadata": {},
   "outputs": [
    {
     "name": "stdout",
     "output_type": "stream",
     "text": [
      "Collecting prettytable\n",
      "  Downloading prettytable-3.8.0-py3-none-any.whl (27 kB)\n",
      "Requirement already satisfied: wcwidth in /opt/conda/lib/python3.8/site-packages (from prettytable) (0.2.5)\n",
      "Installing collected packages: prettytable\n",
      "Successfully installed prettytable-3.8.0\n",
      "\u001b[33mWARNING: Running pip as the 'root' user can result in broken permissions and conflicting behaviour with the system package manager. It is recommended to use a virtual environment instead: https://pip.pypa.io/warnings/venv\u001b[0m\u001b[33m\n",
      "\u001b[0m"
     ]
    }
   ],
   "source": [
    "!pip install prettytable"
   ]
  },
  {
   "cell_type": "code",
   "execution_count": 3,
   "id": "86e8c8e8",
   "metadata": {},
   "outputs": [],
   "source": [
    "import os\n",
    "import json\n",
    "from collections import OrderedDict, defaultdict"
   ]
  },
  {
   "cell_type": "code",
   "execution_count": 6,
   "id": "f0a2d6c2",
   "metadata": {},
   "outputs": [],
   "source": [
    "import numpy as np\n",
    "import cv2\n",
    "from sklearn.model_selection import GroupKFold\n",
    "import matplotlib.pyplot as plt\n",
    "from prettytable import PrettyTable\n",
    "\n",
    "import torch\n",
    "from torch import nn"
   ]
  },
  {
   "cell_type": "code",
   "execution_count": 11,
   "id": "dbfce8fb",
   "metadata": {},
   "outputs": [],
   "source": [
    "from mmseg.registry import DATASETS, TRANSFORMS, MODELS, METRICS\n",
    "from mmseg.datasets import BaseSegDataset\n",
    "from mmseg.models.segmentors import EncoderDecoder\n",
    "from mmseg.models.decode_heads import ASPPHead, FCNHead, SegformerHead\n",
    "from mmseg.models.utils.wrappers import resize\n",
    "\n",
    "\n",
    "from mmengine.config import Config\n",
    "from mmengine.dataset import Compose\n",
    "from mmengine.runner import Runner, load_checkpoint\n",
    "from mmengine.evaluator import BaseMetric\n",
    "from mmengine.logging import MMLogger, print_log\n",
    "from mmengine.structures import PixelData\n",
    "\n",
    "from mmcv.transforms import BaseTransform"
   ]
  },
  {
   "cell_type": "code",
   "execution_count": 12,
   "id": "b9bdfd8a",
   "metadata": {},
   "outputs": [],
   "source": [
    "# 데이터 경로를 입력하세요\n",
    "\n",
    "IMAGE_ROOT = \"/opt/ml/data/train/DCM/\"\n",
    "LABEL_ROOT = \"/opt/ml/data/train/outputs_json/\""
   ]
  },
  {
   "cell_type": "code",
   "execution_count": 13,
   "id": "c10ec100",
   "metadata": {},
   "outputs": [],
   "source": [
    "CLASSES = [\n",
    "    'finger-1', 'finger-2', 'finger-3', 'finger-4', 'finger-5',\n",
    "    'finger-6', 'finger-7', 'finger-8', 'finger-9', 'finger-10',\n",
    "    'finger-11', 'finger-12', 'finger-13', 'finger-14', 'finger-15',\n",
    "    'finger-16', 'finger-17', 'finger-18', 'finger-19', 'Trapezium',\n",
    "    'Trapezoid', 'Capitate', 'Hamate', 'Scaphoid', 'Lunate',\n",
    "    'Triquetrum', 'Pisiform', 'Radius', 'Ulna',\n",
    "]"
   ]
  },
  {
   "cell_type": "code",
   "execution_count": 14,
   "id": "808d4d86",
   "metadata": {},
   "outputs": [],
   "source": [
    "CLASS2IND = {v: i for i, v in enumerate(CLASSES)}"
   ]
  },
  {
   "cell_type": "code",
   "execution_count": 15,
   "id": "14f20766",
   "metadata": {},
   "outputs": [],
   "source": [
    "IND2CLASS = {v: k for k, v in CLASS2IND.items()}"
   ]
  },
  {
   "cell_type": "code",
   "execution_count": 16,
   "id": "e41dcbce",
   "metadata": {},
   "outputs": [],
   "source": [
    "pngs = {\n",
    "    os.path.relpath(os.path.join(root, fname), start=IMAGE_ROOT)\n",
    "    for root, _dirs, files in os.walk(IMAGE_ROOT)\n",
    "    for fname in files\n",
    "    if os.path.splitext(fname)[1].lower() == \".png\"\n",
    "}\n",
    "\n",
    "jsons = {\n",
    "    os.path.relpath(os.path.join(root, fname), start=LABEL_ROOT)\n",
    "    for root, _dirs, files in os.walk(LABEL_ROOT)\n",
    "    for fname in files\n",
    "    if os.path.splitext(fname)[1].lower() == \".json\"\n",
    "}"
   ]
  },
  {
   "cell_type": "code",
   "execution_count": 17,
   "id": "8148c927",
   "metadata": {},
   "outputs": [],
   "source": [
    "pngs = sorted(pngs)\n",
    "jsons = sorted(jsons)"
   ]
  },
  {
   "cell_type": "markdown",
   "id": "b57297cf",
   "metadata": {},
   "source": [
    "# MixIn Classes"
   ]
  },
  {
   "cell_type": "code",
   "execution_count": 18,
   "id": "c2c83fab",
   "metadata": {},
   "outputs": [],
   "source": [
    "class PostProcessResultMixin:\n",
    "    def postprocess_result(self,\n",
    "                           seg_logits,\n",
    "                           data_samples):\n",
    "        \"\"\" Convert results list to `SegDataSample`.\n",
    "        Args:\n",
    "            seg_logits (Tensor): The segmentation results, seg_logits from\n",
    "                model of each input image.\n",
    "            data_samples (list[:obj:`SegDataSample`]): The seg data samples.\n",
    "                It usually includes information such as `metainfo` and\n",
    "                `gt_sem_seg`. Default to None.\n",
    "        Returns:\n",
    "            list[:obj:`SegDataSample`]: Segmentation results of the\n",
    "            input images. Each SegDataSample usually contain:\n",
    "\n",
    "            - ``pred_sem_seg``(PixelData): Prediction of semantic segmentation.\n",
    "            - ``seg_logits``(PixelData): Predicted logits of semantic\n",
    "                segmentation before normalization.\n",
    "        \"\"\"\n",
    "        batch_size, C, H, W = seg_logits.shape\n",
    "\n",
    "        if data_samples is None:\n",
    "            data_samples = [SegDataSample() for _ in range(batch_size)]\n",
    "            only_prediction = True\n",
    "        else:\n",
    "            only_prediction = False\n",
    "\n",
    "        for i in range(batch_size):\n",
    "            if not only_prediction:\n",
    "                img_meta = data_samples[i].metainfo\n",
    "                # remove padding area\n",
    "                if 'img_padding_size' not in img_meta:\n",
    "                    padding_size = img_meta.get('padding_size', [0] * 4)\n",
    "                else:\n",
    "                    padding_size = img_meta['img_padding_size']\n",
    "                padding_left, padding_right, padding_top, padding_bottom =\\\n",
    "                    padding_size\n",
    "                # i_seg_logits shape is 1, C, H, W after remove padding\n",
    "                i_seg_logits = seg_logits[i:i + 1, :,\n",
    "                                          padding_top:H - padding_bottom,\n",
    "                                          padding_left:W - padding_right]\n",
    "\n",
    "                flip = img_meta.get('flip', None)\n",
    "                if flip:\n",
    "                    flip_direction = img_meta.get('flip_direction', None)\n",
    "                    assert flip_direction in ['horizontal', 'vertical']\n",
    "                    if flip_direction == 'horizontal':\n",
    "                        i_seg_logits = i_seg_logits.flip(dims=(3, ))\n",
    "                    else:\n",
    "                        i_seg_logits = i_seg_logits.flip(dims=(2, ))\n",
    "\n",
    "                # resize as original shape\n",
    "                i_seg_logits = resize(\n",
    "                    i_seg_logits,\n",
    "                    size=img_meta['ori_shape'],\n",
    "                    mode='bilinear',\n",
    "                    align_corners=self.align_corners,\n",
    "                    warning=False).squeeze(0)\n",
    "            else:\n",
    "                i_seg_logits = seg_logits[i]\n",
    "\n",
    "            i_seg_logits = i_seg_logits.sigmoid()\n",
    "            i_seg_pred = (i_seg_logits > 0.5).to(i_seg_logits)\n",
    "                \n",
    "            data_samples[i].set_data({\n",
    "                'seg_logits':\n",
    "                PixelData(**{'data': i_seg_logits}),\n",
    "                'pred_sem_seg':\n",
    "                PixelData(**{'data': i_seg_pred})\n",
    "            })\n",
    "\n",
    "        return data_samples"
   ]
  },
  {
   "cell_type": "code",
   "execution_count": 19,
   "id": "ad9e3009",
   "metadata": {},
   "outputs": [
    {
     "ename": "KeyError",
     "evalue": "'EncoderDecoderWithoutArgmax is already registered in model at mmseg.models.segmentors.encoder_decoder'",
     "output_type": "error",
     "traceback": [
      "\u001b[0;31m---------------------------------------------------------------------------\u001b[0m",
      "\u001b[0;31mKeyError\u001b[0m                                  Traceback (most recent call last)",
      "Cell \u001b[0;32mIn[19], line 2\u001b[0m\n\u001b[1;32m      1\u001b[0m \u001b[39m@MODELS\u001b[39;49m\u001b[39m.\u001b[39;49mregister_module()\n\u001b[0;32m----> 2\u001b[0m \u001b[39mclass\u001b[39;49;00m \u001b[39mEncoderDecoderWithoutArgmax\u001b[39;49;00m(PostProcessResultMixin, EncoderDecoder):\n\u001b[1;32m      3\u001b[0m     \u001b[39mpass\u001b[39;49;00m\n",
      "File \u001b[0;32m/opt/conda/lib/python3.8/site-packages/mmengine/registry/registry.py:644\u001b[0m, in \u001b[0;36mRegistry.register_module.<locals>._register\u001b[0;34m(module)\u001b[0m\n\u001b[1;32m    643\u001b[0m \u001b[39mdef\u001b[39;00m \u001b[39m_register\u001b[39m(module):\n\u001b[0;32m--> 644\u001b[0m     \u001b[39mself\u001b[39;49m\u001b[39m.\u001b[39;49m_register_module(module\u001b[39m=\u001b[39;49mmodule, module_name\u001b[39m=\u001b[39;49mname, force\u001b[39m=\u001b[39;49mforce)\n\u001b[1;32m    645\u001b[0m     \u001b[39mreturn\u001b[39;00m module\n",
      "File \u001b[0;32m/opt/conda/lib/python3.8/site-packages/mmengine/registry/registry.py:589\u001b[0m, in \u001b[0;36mRegistry._register_module\u001b[0;34m(self, module, module_name, force)\u001b[0m\n\u001b[1;32m    587\u001b[0m \u001b[39mif\u001b[39;00m \u001b[39mnot\u001b[39;00m force \u001b[39mand\u001b[39;00m name \u001b[39min\u001b[39;00m \u001b[39mself\u001b[39m\u001b[39m.\u001b[39m_module_dict:\n\u001b[1;32m    588\u001b[0m     existed_module \u001b[39m=\u001b[39m \u001b[39mself\u001b[39m\u001b[39m.\u001b[39mmodule_dict[name]\n\u001b[0;32m--> 589\u001b[0m     \u001b[39mraise\u001b[39;00m \u001b[39mKeyError\u001b[39;00m(\u001b[39mf\u001b[39m\u001b[39m'\u001b[39m\u001b[39m{\u001b[39;00mname\u001b[39m}\u001b[39;00m\u001b[39m is already registered in \u001b[39m\u001b[39m{\u001b[39;00m\u001b[39mself\u001b[39m\u001b[39m.\u001b[39mname\u001b[39m}\u001b[39;00m\u001b[39m \u001b[39m\u001b[39m'\u001b[39m\n\u001b[1;32m    590\u001b[0m                    \u001b[39mf\u001b[39m\u001b[39m'\u001b[39m\u001b[39mat \u001b[39m\u001b[39m{\u001b[39;00mexisted_module\u001b[39m.\u001b[39m\u001b[39m__module__\u001b[39m\u001b[39m}\u001b[39;00m\u001b[39m'\u001b[39m)\n\u001b[1;32m    591\u001b[0m \u001b[39mself\u001b[39m\u001b[39m.\u001b[39m_module_dict[name] \u001b[39m=\u001b[39m module\n",
      "\u001b[0;31mKeyError\u001b[0m: 'EncoderDecoderWithoutArgmax is already registered in model at mmseg.models.segmentors.encoder_decoder'"
     ]
    }
   ],
   "source": [
    "@MODELS.register_module()\n",
    "class EncoderDecoderWithoutArgmax(PostProcessResultMixin, EncoderDecoder):\n",
    "    pass"
   ]
  },
  {
   "cell_type": "code",
   "execution_count": 20,
   "id": "50a42dfc",
   "metadata": {},
   "outputs": [],
   "source": [
    "class LossByFeatMixIn:\n",
    "    def loss_by_feat(self, seg_logits, batch_data_samples) -> dict:\n",
    "        \"\"\"Compute segmentation loss.\n",
    "\n",
    "        Args:\n",
    "            seg_logits (Tensor): The output from decode head forward function.\n",
    "            batch_data_samples (List[:obj:`SegDataSample`]): The seg\n",
    "                data samples. It usually includes information such\n",
    "                as `metainfo` and `gt_sem_seg`.\n",
    "\n",
    "        Returns:\n",
    "            dict[str, Tensor]: a dictionary of loss components\n",
    "        \"\"\"\n",
    "\n",
    "        seg_label = self._stack_batch_gt(batch_data_samples)\n",
    "        loss = dict()\n",
    "        seg_logits = resize(\n",
    "            input=seg_logits,\n",
    "            size=seg_label.shape[2:],\n",
    "            mode='bilinear',\n",
    "            align_corners=self.align_corners)\n",
    "        if self.sampler is not None:\n",
    "            seg_weight = self.sampler.sample(seg_logits, seg_label)\n",
    "        else:\n",
    "            seg_weight = None\n",
    "\n",
    "        if not isinstance(self.loss_decode, nn.ModuleList):\n",
    "            losses_decode = [self.loss_decode]\n",
    "        else:\n",
    "            losses_decode = self.loss_decode\n",
    "        for loss_decode in losses_decode:\n",
    "            if loss_decode.loss_name not in loss:\n",
    "                loss[loss_decode.loss_name] = loss_decode(\n",
    "                    seg_logits,\n",
    "                    seg_label,\n",
    "                    weight=seg_weight,\n",
    "                    ignore_index=self.ignore_index)\n",
    "            else:\n",
    "                loss[loss_decode.loss_name] += loss_decode(\n",
    "                    seg_logits,\n",
    "                    seg_label,\n",
    "                    weight=seg_weight,\n",
    "                    ignore_index=self.ignore_index)\n",
    "\n",
    "        return loss"
   ]
  },
  {
   "cell_type": "code",
   "execution_count": 21,
   "id": "2d0184d4",
   "metadata": {},
   "outputs": [
    {
     "ename": "KeyError",
     "evalue": "'ASPPHeadWithoutAccuracy is already registered in model at mmseg.models.decode_heads.aspp_head'",
     "output_type": "error",
     "traceback": [
      "\u001b[0;31m---------------------------------------------------------------------------\u001b[0m",
      "\u001b[0;31mKeyError\u001b[0m                                  Traceback (most recent call last)",
      "Cell \u001b[0;32mIn[21], line 2\u001b[0m\n\u001b[1;32m      1\u001b[0m \u001b[39m@MODELS\u001b[39;49m\u001b[39m.\u001b[39;49mregister_module()\n\u001b[0;32m----> 2\u001b[0m \u001b[39mclass\u001b[39;49;00m \u001b[39mASPPHeadWithoutAccuracy\u001b[39;49;00m(LossByFeatMixIn, ASPPHead):\n\u001b[1;32m      3\u001b[0m     \u001b[39mpass\u001b[39;49;00m\n",
      "File \u001b[0;32m/opt/conda/lib/python3.8/site-packages/mmengine/registry/registry.py:644\u001b[0m, in \u001b[0;36mRegistry.register_module.<locals>._register\u001b[0;34m(module)\u001b[0m\n\u001b[1;32m    643\u001b[0m \u001b[39mdef\u001b[39;00m \u001b[39m_register\u001b[39m(module):\n\u001b[0;32m--> 644\u001b[0m     \u001b[39mself\u001b[39;49m\u001b[39m.\u001b[39;49m_register_module(module\u001b[39m=\u001b[39;49mmodule, module_name\u001b[39m=\u001b[39;49mname, force\u001b[39m=\u001b[39;49mforce)\n\u001b[1;32m    645\u001b[0m     \u001b[39mreturn\u001b[39;00m module\n",
      "File \u001b[0;32m/opt/conda/lib/python3.8/site-packages/mmengine/registry/registry.py:589\u001b[0m, in \u001b[0;36mRegistry._register_module\u001b[0;34m(self, module, module_name, force)\u001b[0m\n\u001b[1;32m    587\u001b[0m \u001b[39mif\u001b[39;00m \u001b[39mnot\u001b[39;00m force \u001b[39mand\u001b[39;00m name \u001b[39min\u001b[39;00m \u001b[39mself\u001b[39m\u001b[39m.\u001b[39m_module_dict:\n\u001b[1;32m    588\u001b[0m     existed_module \u001b[39m=\u001b[39m \u001b[39mself\u001b[39m\u001b[39m.\u001b[39mmodule_dict[name]\n\u001b[0;32m--> 589\u001b[0m     \u001b[39mraise\u001b[39;00m \u001b[39mKeyError\u001b[39;00m(\u001b[39mf\u001b[39m\u001b[39m'\u001b[39m\u001b[39m{\u001b[39;00mname\u001b[39m}\u001b[39;00m\u001b[39m is already registered in \u001b[39m\u001b[39m{\u001b[39;00m\u001b[39mself\u001b[39m\u001b[39m.\u001b[39mname\u001b[39m}\u001b[39;00m\u001b[39m \u001b[39m\u001b[39m'\u001b[39m\n\u001b[1;32m    590\u001b[0m                    \u001b[39mf\u001b[39m\u001b[39m'\u001b[39m\u001b[39mat \u001b[39m\u001b[39m{\u001b[39;00mexisted_module\u001b[39m.\u001b[39m\u001b[39m__module__\u001b[39m\u001b[39m}\u001b[39;00m\u001b[39m'\u001b[39m)\n\u001b[1;32m    591\u001b[0m \u001b[39mself\u001b[39m\u001b[39m.\u001b[39m_module_dict[name] \u001b[39m=\u001b[39m module\n",
      "\u001b[0;31mKeyError\u001b[0m: 'ASPPHeadWithoutAccuracy is already registered in model at mmseg.models.decode_heads.aspp_head'"
     ]
    }
   ],
   "source": [
    "# @MODELS.register_module()\n",
    "# class ASPPHeadWithoutAccuracy(LossByFeatMixIn, ASPPHead):\n",
    "#     pass"
   ]
  },
  {
   "cell_type": "code",
   "execution_count": 22,
   "id": "c289137f",
   "metadata": {},
   "outputs": [
    {
     "ename": "KeyError",
     "evalue": "'FCNHeadWithoutAccuracy is already registered in model at mmseg.models.decode_heads.fcn_head'",
     "output_type": "error",
     "traceback": [
      "\u001b[0;31m---------------------------------------------------------------------------\u001b[0m",
      "\u001b[0;31mKeyError\u001b[0m                                  Traceback (most recent call last)",
      "Cell \u001b[0;32mIn[22], line 2\u001b[0m\n\u001b[1;32m      1\u001b[0m \u001b[39m@MODELS\u001b[39;49m\u001b[39m.\u001b[39;49mregister_module()\n\u001b[0;32m----> 2\u001b[0m \u001b[39mclass\u001b[39;49;00m \u001b[39mFCNHeadWithoutAccuracy\u001b[39;49;00m(LossByFeatMixIn, FCNHead):\n\u001b[1;32m      3\u001b[0m     \u001b[39mpass\u001b[39;49;00m\n",
      "File \u001b[0;32m/opt/conda/lib/python3.8/site-packages/mmengine/registry/registry.py:644\u001b[0m, in \u001b[0;36mRegistry.register_module.<locals>._register\u001b[0;34m(module)\u001b[0m\n\u001b[1;32m    643\u001b[0m \u001b[39mdef\u001b[39;00m \u001b[39m_register\u001b[39m(module):\n\u001b[0;32m--> 644\u001b[0m     \u001b[39mself\u001b[39;49m\u001b[39m.\u001b[39;49m_register_module(module\u001b[39m=\u001b[39;49mmodule, module_name\u001b[39m=\u001b[39;49mname, force\u001b[39m=\u001b[39;49mforce)\n\u001b[1;32m    645\u001b[0m     \u001b[39mreturn\u001b[39;00m module\n",
      "File \u001b[0;32m/opt/conda/lib/python3.8/site-packages/mmengine/registry/registry.py:589\u001b[0m, in \u001b[0;36mRegistry._register_module\u001b[0;34m(self, module, module_name, force)\u001b[0m\n\u001b[1;32m    587\u001b[0m \u001b[39mif\u001b[39;00m \u001b[39mnot\u001b[39;00m force \u001b[39mand\u001b[39;00m name \u001b[39min\u001b[39;00m \u001b[39mself\u001b[39m\u001b[39m.\u001b[39m_module_dict:\n\u001b[1;32m    588\u001b[0m     existed_module \u001b[39m=\u001b[39m \u001b[39mself\u001b[39m\u001b[39m.\u001b[39mmodule_dict[name]\n\u001b[0;32m--> 589\u001b[0m     \u001b[39mraise\u001b[39;00m \u001b[39mKeyError\u001b[39;00m(\u001b[39mf\u001b[39m\u001b[39m'\u001b[39m\u001b[39m{\u001b[39;00mname\u001b[39m}\u001b[39;00m\u001b[39m is already registered in \u001b[39m\u001b[39m{\u001b[39;00m\u001b[39mself\u001b[39m\u001b[39m.\u001b[39mname\u001b[39m}\u001b[39;00m\u001b[39m \u001b[39m\u001b[39m'\u001b[39m\n\u001b[1;32m    590\u001b[0m                    \u001b[39mf\u001b[39m\u001b[39m'\u001b[39m\u001b[39mat \u001b[39m\u001b[39m{\u001b[39;00mexisted_module\u001b[39m.\u001b[39m\u001b[39m__module__\u001b[39m\u001b[39m}\u001b[39;00m\u001b[39m'\u001b[39m)\n\u001b[1;32m    591\u001b[0m \u001b[39mself\u001b[39m\u001b[39m.\u001b[39m_module_dict[name] \u001b[39m=\u001b[39m module\n",
      "\u001b[0;31mKeyError\u001b[0m: 'FCNHeadWithoutAccuracy is already registered in model at mmseg.models.decode_heads.fcn_head'"
     ]
    }
   ],
   "source": [
    "# @MODELS.register_module()\n",
    "# class FCNHeadWithoutAccuracy(LossByFeatMixIn, FCNHead):\n",
    "#     pass"
   ]
  },
  {
   "cell_type": "code",
   "execution_count": 15,
   "id": "c727ee93",
   "metadata": {},
   "outputs": [],
   "source": [
    "# @MODELS.register_module()\n",
    "# class SegformerHeadWithoutAccuracy(LossByFeatMixIn, SegformerHead):\n",
    "#     pass"
   ]
  },
  {
   "cell_type": "markdown",
   "id": "bdd52579",
   "metadata": {},
   "source": [
    "# Dataset"
   ]
  },
  {
   "cell_type": "code",
   "execution_count": 23,
   "id": "f6c20f11",
   "metadata": {},
   "outputs": [],
   "source": [
    "@DATASETS.register_module()\n",
    "class XRayDataset(BaseSegDataset):\n",
    "    def __init__(self, is_train, **kwargs):\n",
    "        self.is_train = is_train\n",
    "        \n",
    "        super().__init__(**kwargs)\n",
    "        \n",
    "    def load_data_list(self):\n",
    "        _filenames = np.array(pngs)\n",
    "        _labelnames = np.array(jsons)\n",
    "        \n",
    "        # split train-valid\n",
    "        # 한 폴더 안에 한 인물의 양손에 대한 `.dcm` 파일이 존재하기 때문에\n",
    "        # 폴더 이름을 그룹으로 해서 GroupKFold를 수행합니다.\n",
    "        # 동일 인물의 손이 train, valid에 따로 들어가는 것을 방지합니다.\n",
    "        groups = [os.path.dirname(fname) for fname in _filenames]\n",
    "        \n",
    "        # dummy label\n",
    "        ys = [0 for fname in _filenames]\n",
    "        \n",
    "        # 전체 데이터의 20%를 validation data로 쓰기 위해 `n_splits`를\n",
    "        # 5으로 설정하여 KFold를 수행합니다.\n",
    "        gkf = GroupKFold(n_splits=5)\n",
    "        \n",
    "        filenames = []\n",
    "        labelnames = []\n",
    "        for i, (x, y) in enumerate(gkf.split(_filenames, ys, groups)):\n",
    "            if self.is_train:\n",
    "                # 0번을 validation dataset으로 사용합니다.\n",
    "                if i == 0:\n",
    "                    continue\n",
    "                    \n",
    "                filenames += list(_filenames[y])\n",
    "                labelnames += list(_labelnames[y])\n",
    "            \n",
    "            else:\n",
    "                filenames = list(_filenames[y])\n",
    "                labelnames = list(_labelnames[y])\n",
    "                \n",
    "                # skip i > 0\n",
    "                break\n",
    "        \n",
    "        data_list = []\n",
    "        for i, (img_path, ann_path) in enumerate(zip(filenames, labelnames)):\n",
    "            data_info = dict(\n",
    "                img_path=os.path.join(IMAGE_ROOT, img_path),\n",
    "                seg_map_path=os.path.join(LABEL_ROOT, ann_path),\n",
    "            )\n",
    "            data_list.append(data_info)\n",
    "        \n",
    "        return data_list"
   ]
  },
  {
   "cell_type": "code",
   "execution_count": 24,
   "id": "dc590843",
   "metadata": {},
   "outputs": [
    {
     "ename": "KeyError",
     "evalue": "'LoadXRayAnnotations is already registered in transform at mmseg.datasets.transforms.LoadXRayAnnotations'",
     "output_type": "error",
     "traceback": [
      "\u001b[0;31m---------------------------------------------------------------------------\u001b[0m",
      "\u001b[0;31mKeyError\u001b[0m                                  Traceback (most recent call last)",
      "Cell \u001b[0;32mIn[24], line 2\u001b[0m\n\u001b[1;32m      1\u001b[0m \u001b[39m@TRANSFORMS\u001b[39;49m\u001b[39m.\u001b[39;49mregister_module()\n\u001b[0;32m----> 2\u001b[0m \u001b[39mclass\u001b[39;49;00m \u001b[39mLoadXRayAnnotations\u001b[39;49;00m(BaseTransform):\n\u001b[1;32m      3\u001b[0m     \u001b[39mdef\u001b[39;49;00m \u001b[39mtransform\u001b[39;49m(\u001b[39mself\u001b[39;49m, result):\n\u001b[1;32m      4\u001b[0m         label_path \u001b[39m=\u001b[39;49m result[\u001b[39m\"\u001b[39;49m\u001b[39mseg_map_path\u001b[39;49m\u001b[39m\"\u001b[39;49m]\n",
      "File \u001b[0;32m/opt/conda/lib/python3.8/site-packages/mmengine/registry/registry.py:644\u001b[0m, in \u001b[0;36mRegistry.register_module.<locals>._register\u001b[0;34m(module)\u001b[0m\n\u001b[1;32m    643\u001b[0m \u001b[39mdef\u001b[39;00m \u001b[39m_register\u001b[39m(module):\n\u001b[0;32m--> 644\u001b[0m     \u001b[39mself\u001b[39;49m\u001b[39m.\u001b[39;49m_register_module(module\u001b[39m=\u001b[39;49mmodule, module_name\u001b[39m=\u001b[39;49mname, force\u001b[39m=\u001b[39;49mforce)\n\u001b[1;32m    645\u001b[0m     \u001b[39mreturn\u001b[39;00m module\n",
      "File \u001b[0;32m/opt/conda/lib/python3.8/site-packages/mmengine/registry/registry.py:589\u001b[0m, in \u001b[0;36mRegistry._register_module\u001b[0;34m(self, module, module_name, force)\u001b[0m\n\u001b[1;32m    587\u001b[0m \u001b[39mif\u001b[39;00m \u001b[39mnot\u001b[39;00m force \u001b[39mand\u001b[39;00m name \u001b[39min\u001b[39;00m \u001b[39mself\u001b[39m\u001b[39m.\u001b[39m_module_dict:\n\u001b[1;32m    588\u001b[0m     existed_module \u001b[39m=\u001b[39m \u001b[39mself\u001b[39m\u001b[39m.\u001b[39mmodule_dict[name]\n\u001b[0;32m--> 589\u001b[0m     \u001b[39mraise\u001b[39;00m \u001b[39mKeyError\u001b[39;00m(\u001b[39mf\u001b[39m\u001b[39m'\u001b[39m\u001b[39m{\u001b[39;00mname\u001b[39m}\u001b[39;00m\u001b[39m is already registered in \u001b[39m\u001b[39m{\u001b[39;00m\u001b[39mself\u001b[39m\u001b[39m.\u001b[39mname\u001b[39m}\u001b[39;00m\u001b[39m \u001b[39m\u001b[39m'\u001b[39m\n\u001b[1;32m    590\u001b[0m                    \u001b[39mf\u001b[39m\u001b[39m'\u001b[39m\u001b[39mat \u001b[39m\u001b[39m{\u001b[39;00mexisted_module\u001b[39m.\u001b[39m\u001b[39m__module__\u001b[39m\u001b[39m}\u001b[39;00m\u001b[39m'\u001b[39m)\n\u001b[1;32m    591\u001b[0m \u001b[39mself\u001b[39m\u001b[39m.\u001b[39m_module_dict[name] \u001b[39m=\u001b[39m module\n",
      "\u001b[0;31mKeyError\u001b[0m: 'LoadXRayAnnotations is already registered in transform at mmseg.datasets.transforms.LoadXRayAnnotations'"
     ]
    }
   ],
   "source": [
    "@TRANSFORMS.register_module()\n",
    "class LoadXRayAnnotations(BaseTransform):\n",
    "    def transform(self, result):\n",
    "        label_path = result[\"seg_map_path\"]\n",
    "        \n",
    "        image_size = (2048, 2048)\n",
    "        \n",
    "        # process a label of shape (H, W, NC)\n",
    "        label_shape = image_size + (len(CLASSES), )\n",
    "        label = np.zeros(label_shape, dtype=np.uint8)\n",
    "        \n",
    "        # read label file\n",
    "        with open(label_path, \"r\") as f:\n",
    "            annotations = json.load(f)\n",
    "        annotations = annotations[\"annotations\"]\n",
    "        \n",
    "        # iterate each class\n",
    "        for ann in annotations:\n",
    "            c = ann[\"label\"]\n",
    "            class_ind = CLASS2IND[c]\n",
    "            points = np.array(ann[\"points\"])\n",
    "            \n",
    "            # polygon to mask\n",
    "            class_label = np.zeros(image_size, dtype=np.uint8)\n",
    "            cv2.fillPoly(class_label, [points], 1)\n",
    "            label[..., class_ind] = class_label\n",
    "        \n",
    "        result[\"gt_seg_map\"] = label\n",
    "        \n",
    "        return result"
   ]
  },
  {
   "cell_type": "code",
   "execution_count": 25,
   "id": "c2ac2bf5",
   "metadata": {},
   "outputs": [],
   "source": [
    "@TRANSFORMS.register_module()\n",
    "class TransposeAnnotations(BaseTransform):\n",
    "    def transform(self, result):\n",
    "        result[\"gt_seg_map\"] = np.transpose(result[\"gt_seg_map\"], (2, 0, 1))\n",
    "        \n",
    "        return result"
   ]
  },
  {
   "cell_type": "markdown",
   "id": "1a4f47c5",
   "metadata": {},
   "source": [
    "# Metric"
   ]
  },
  {
   "cell_type": "code",
   "execution_count": 26,
   "id": "8d228a51",
   "metadata": {},
   "outputs": [],
   "source": [
    "@METRICS.register_module()\n",
    "class DiceMetric(BaseMetric):\n",
    "    def __init__(self,\n",
    "                 collect_device='cpu',\n",
    "                 prefix=None,\n",
    "                 **kwargs):\n",
    "        super().__init__(collect_device=collect_device, prefix=prefix)\n",
    "        \n",
    "    @staticmethod\n",
    "    def dice_coef(y_true, y_pred):        \n",
    "        y_true_f = y_true.flatten(-2)\n",
    "        y_pred_f = y_pred.flatten(-2)\n",
    "        intersection = torch.sum(y_true_f * y_pred_f, -1)\n",
    "\n",
    "        eps = 0.0001\n",
    "        return (2. * intersection + eps) / (torch.sum(y_true_f, -1) + torch.sum(y_pred_f, -1) + eps)\n",
    "\n",
    "    def process(self, data_batch, data_samples):\n",
    "        \"\"\"Process one batch of data and data_samples.\n",
    "\n",
    "        The processed results should be stored in ``self.results``, which will\n",
    "        be used to compute the metrics when all batches have been processed.\n",
    "\n",
    "        Args:\n",
    "            data_batch (dict): A batch of data from the dataloader.\n",
    "            data_samples (Sequence[dict]): A batch of outputs from the model.\n",
    "        \"\"\"\n",
    "        for data_sample in data_samples:\n",
    "            pred_label = data_sample['pred_sem_seg']['data']\n",
    "            \n",
    "            label = data_sample['gt_sem_seg']['data'].to(pred_label)\n",
    "            self.results.append(\n",
    "                self.dice_coef(label, pred_label)\n",
    "            )\n",
    "\n",
    "    def compute_metrics(self, results):\n",
    "        \"\"\"Compute the metrics from processed results.\n",
    "\n",
    "        Args:\n",
    "            results (list): The processed results of each batch.\n",
    "\n",
    "        Returns:\n",
    "            Dict[str, float]: The computed metrics. The keys are the names of\n",
    "                the metrics, and the values are corresponding results.\n",
    "        \"\"\"\n",
    "        logger: MMLogger = MMLogger.get_current_instance()\n",
    "            \n",
    "        results = torch.stack(self.results, 0)        \n",
    "        dices_per_class = torch.mean(results, 0)\n",
    "        avg_dice = torch.mean(dices_per_class)\n",
    "            \n",
    "        ret_metrics = {\n",
    "            \"Dice\": dices_per_class.detach().cpu().numpy(),\n",
    "        }\n",
    "        # summary table\n",
    "        ret_metrics_summary = OrderedDict({\n",
    "            ret_metric: np.round(np.nanmean(ret_metric_value) * 100, 2)\n",
    "            for ret_metric, ret_metric_value in ret_metrics.items()\n",
    "        })\n",
    "        \n",
    "        metrics = {\n",
    "            \"mDice\": torch.mean(dices_per_class).item()\n",
    "        }\n",
    "\n",
    "        # each class table\n",
    "        ret_metrics.pop('aAcc', None)\n",
    "        ret_metrics_class = OrderedDict({\n",
    "            ret_metric: np.round(ret_metric_value * 100, 2)\n",
    "            for ret_metric, ret_metric_value in ret_metrics.items()\n",
    "        })\n",
    "        ret_metrics_class.update({'Class': CLASSES})\n",
    "        ret_metrics_class.move_to_end('Class', last=False)\n",
    "        class_table_data = PrettyTable()\n",
    "        for key, val in ret_metrics_class.items():\n",
    "            class_table_data.add_column(key, val)\n",
    "\n",
    "        print_log('per class results:', logger)\n",
    "        print_log('\\n' + class_table_data.get_string(), logger=logger)\n",
    "\n",
    "        return metrics"
   ]
  },
  {
   "cell_type": "markdown",
   "id": "1380e2d8",
   "metadata": {},
   "source": [
    "# Configs"
   ]
  },
  {
   "cell_type": "code",
   "execution_count": 27,
   "id": "17734392",
   "metadata": {},
   "outputs": [
    {
     "name": "stdout",
     "output_type": "stream",
     "text": [
      "Writing dataset_setting.py\n"
     ]
    }
   ],
   "source": [
    "%%writefile dataset_setting.py\n",
    "\n",
    "# dataset settings\n",
    "dataset_type = 'XRayDataset'\n",
    "train_pipeline = [\n",
    "    dict(type='LoadImageFromFile'),\n",
    "    dict(type='LoadXRayAnnotations'),\n",
    "    dict(type='Resize', scale=(512, 512)),\n",
    "    dict(type='TransposeAnnotations'),\n",
    "    dict(type='PackSegInputs')\n",
    "]\n",
    "test_pipeline = [\n",
    "    dict(type='LoadImageFromFile'),\n",
    "    dict(type='Resize', scale=(512, 512)),\n",
    "    # add loading annotation after ``Resize`` because ground truth\n",
    "    # does not need to do resize data transform\n",
    "    dict(type='LoadXRayAnnotations'),\n",
    "    dict(type='TransposeAnnotations'),\n",
    "    dict(type='PackSegInputs')\n",
    "]\n",
    "train_dataloader = dict(\n",
    "    batch_size=8,\n",
    "    num_workers=4,\n",
    "    persistent_workers=True,\n",
    "    sampler=dict(type='InfiniteSampler', shuffle=True),\n",
    "    dataset=dict(\n",
    "        type=dataset_type,\n",
    "        is_train=True,\n",
    "        pipeline=train_pipeline\n",
    "    )\n",
    ")\n",
    "val_dataloader = dict(\n",
    "    batch_size=1,\n",
    "    num_workers=0,\n",
    "    sampler=dict(type='DefaultSampler', shuffle=False),\n",
    "    dataset=dict(\n",
    "        type=dataset_type,\n",
    "        is_train=False,\n",
    "        pipeline=test_pipeline\n",
    "    )\n",
    ")\n",
    "test_dataloader = val_dataloader\n",
    "\n",
    "val_evaluator = dict(type='DiceMetric')\n",
    "test_evaluator = val_evaluator"
   ]
  },
  {
   "cell_type": "code",
   "execution_count": 37,
   "id": "4455f777",
   "metadata": {},
   "outputs": [
    {
     "name": "stdout",
     "output_type": "stream",
     "text": [
      "Overwriting config_for_this_example.py\n"
     ]
    }
   ],
   "source": [
    "%%writefile config_for_this_example.py\n",
    "\n",
    "# Train Segformer Mit B0\n",
    "_base_ = [\n",
    "    \"mmsegmentation/configs/_base_/models/segformer_mit-b0.py\",\n",
    "    \"dataset_setting.py\",\n",
    "    \"mmsegmentation/configs/_base_/default_runtime.py\"\n",
    "]\n",
    "\n",
    "data_preprocessor = dict(\n",
    "    type='SegDataPreProcessor',\n",
    "    mean=[0., 0., 0.],\n",
    "    std=[255., 255., 255.],\n",
    "    bgr_to_rgb=True,\n",
    "    size=(512, 512),\n",
    "    pad_val=0,\n",
    "    seg_pad_val=255,\n",
    ")\n",
    "\n",
    "model = dict(\n",
    "    type='EncoderDecoderWithoutArgmax',\n",
    "    init_cfg=dict(\n",
    "        type='Pretrained',\n",
    "        # load ADE20k pretrained EncoderDecoder from mmsegmentation\n",
    "        checkpoint=\"https://download.openmmlab.com/mmsegmentation/v0.5/segformer/segformer_mit-b0_512x512_160k_ade20k/segformer_mit-b0_512x512_160k_ade20k_20210726_101530-8ffa8fda.pth\"\n",
    "    ),\n",
    "    data_preprocessor=data_preprocessor,\n",
    "    decode_head=dict(\n",
    "        type='SegformerHeadWithoutAccuracy',\n",
    "        num_classes=29,\n",
    "        loss_decode=dict(\n",
    "            type='CrossEntropyLoss',\n",
    "            use_sigmoid=True,\n",
    "            loss_weight=1.0,\n",
    "        ),\n",
    "    ),\n",
    ")\n",
    "\n",
    "# optimizer\n",
    "optimizer = dict(type='AdamW', lr=0.00006, betas=(0.9, 0.999), weight_decay=0.01)\n",
    "optim_wrapper = dict(type='OptimWrapper', optimizer=optimizer, clip_grad=None)\n",
    "# learning policy\n",
    "param_scheduler = [\n",
    "    dict(\n",
    "        type='LinearLR', start_factor=1e-6, by_epoch=False, begin=0, end=1500\n",
    "    ),\n",
    "    dict(\n",
    "        type='PolyLR',\n",
    "        eta_min=0.0,\n",
    "        power=1.0,\n",
    "        begin=1500,\n",
    "        end=20000,\n",
    "        by_epoch=False,\n",
    "    )\n",
    "]\n",
    "# training schedule for 20k\n",
    "train_cfg = dict(type='IterBasedTrainLoop', max_iters=20000, val_interval=2000)\n",
    "val_cfg = dict(type='ValLoop')\n",
    "test_cfg = dict(type='TestLoop')\n",
    "default_hooks = dict(\n",
    "    timer=dict(type='IterTimerHook'),\n",
    "    logger=dict(type='LoggerHook', interval=50, log_metric_by_epoch=False),\n",
    "    param_scheduler=dict(type='ParamSchedulerHook'),\n",
    "    checkpoint=dict(type='CheckpointHook', by_epoch=False, interval=2000),\n",
    "    sampler_seed=dict(type='DistSamplerSeedHook'),\n",
    "    visualization=dict(type='SegVisualizationHook')\n",
    ")"
   ]
  },
  {
   "cell_type": "markdown",
   "id": "903a66e1",
   "metadata": {},
   "source": [
    "# Train"
   ]
  },
  {
   "cell_type": "code",
   "execution_count": 40,
   "id": "ca2ea76f",
   "metadata": {
    "scrolled": false
   },
   "outputs": [
    {
     "ename": "FileNotFoundError",
     "evalue": "file \"/opt/ml/input/level2_cv_semanticsegmentation-cv-12/mmsegmentation/configs/_base_/models/segformer_mit-b0.py\" does not exist",
     "output_type": "error",
     "traceback": [
      "\u001b[0;31m---------------------------------------------------------------------------\u001b[0m",
      "\u001b[0;31mFileNotFoundError\u001b[0m                         Traceback (most recent call last)",
      "Cell \u001b[0;32mIn[40], line 2\u001b[0m\n\u001b[1;32m      1\u001b[0m \u001b[39m# load config\u001b[39;00m\n\u001b[0;32m----> 2\u001b[0m cfg \u001b[39m=\u001b[39m Config\u001b[39m.\u001b[39;49mfromfile(\u001b[39m\"\u001b[39;49m\u001b[39mconfig_for_this_example.py\u001b[39;49m\u001b[39m\"\u001b[39;49m)\n\u001b[1;32m      3\u001b[0m cfg\u001b[39m.\u001b[39mlauncher \u001b[39m=\u001b[39m \u001b[39m\"\u001b[39m\u001b[39mnone\u001b[39m\u001b[39m\"\u001b[39m\n\u001b[1;32m      4\u001b[0m cfg\u001b[39m.\u001b[39mwork_dir \u001b[39m=\u001b[39m os\u001b[39m.\u001b[39mpath\u001b[39m.\u001b[39mjoin(\u001b[39m'\u001b[39m\u001b[39m./work_dirs\u001b[39m\u001b[39m'\u001b[39m, \u001b[39m\"\u001b[39m\u001b[39mbaseline\u001b[39m\u001b[39m\"\u001b[39m)\n",
      "File \u001b[0;32m/opt/conda/lib/python3.8/site-packages/mmengine/config/config.py:178\u001b[0m, in \u001b[0;36mConfig.fromfile\u001b[0;34m(filename, use_predefined_variables, import_custom_modules, use_environment_variables)\u001b[0m\n\u001b[1;32m    165\u001b[0m \u001b[39m\u001b[39m\u001b[39m\"\"\"Build a Config instance from config file.\u001b[39;00m\n\u001b[1;32m    166\u001b[0m \n\u001b[1;32m    167\u001b[0m \u001b[39mArgs:\u001b[39;00m\n\u001b[0;32m   (...)\u001b[0m\n\u001b[1;32m    175\u001b[0m \u001b[39m    Config: Config instance built from config file.\u001b[39;00m\n\u001b[1;32m    176\u001b[0m \u001b[39m\"\"\"\u001b[39;00m\n\u001b[1;32m    177\u001b[0m filename \u001b[39m=\u001b[39m \u001b[39mstr\u001b[39m(filename) \u001b[39mif\u001b[39;00m \u001b[39misinstance\u001b[39m(filename, Path) \u001b[39melse\u001b[39;00m filename\n\u001b[0;32m--> 178\u001b[0m cfg_dict, cfg_text, env_variables \u001b[39m=\u001b[39m Config\u001b[39m.\u001b[39;49m_file2dict(\n\u001b[1;32m    179\u001b[0m     filename, use_predefined_variables, use_environment_variables)\n\u001b[1;32m    180\u001b[0m \u001b[39mif\u001b[39;00m import_custom_modules \u001b[39mand\u001b[39;00m cfg_dict\u001b[39m.\u001b[39mget(\u001b[39m'\u001b[39m\u001b[39mcustom_imports\u001b[39m\u001b[39m'\u001b[39m, \u001b[39mNone\u001b[39;00m):\n\u001b[1;32m    181\u001b[0m     \u001b[39mtry\u001b[39;00m:\n",
      "File \u001b[0;32m/opt/conda/lib/python3.8/site-packages/mmengine/config/config.py:490\u001b[0m, in \u001b[0;36mConfig._file2dict\u001b[0;34m(filename, use_predefined_variables, use_environment_variables)\u001b[0m\n\u001b[1;32m    487\u001b[0m \u001b[39mfor\u001b[39;00m base_cfg_path \u001b[39min\u001b[39;00m Config\u001b[39m.\u001b[39m_get_base_files(temp_config_file\u001b[39m.\u001b[39mname):\n\u001b[1;32m    488\u001b[0m     base_cfg_path, scope \u001b[39m=\u001b[39m Config\u001b[39m.\u001b[39m_get_cfg_path(\n\u001b[1;32m    489\u001b[0m         base_cfg_path, filename)\n\u001b[0;32m--> 490\u001b[0m     _cfg_dict, _cfg_text, _env_variables \u001b[39m=\u001b[39m Config\u001b[39m.\u001b[39;49m_file2dict(\n\u001b[1;32m    491\u001b[0m         filename\u001b[39m=\u001b[39;49mbase_cfg_path,\n\u001b[1;32m    492\u001b[0m         use_predefined_variables\u001b[39m=\u001b[39;49muse_predefined_variables,\n\u001b[1;32m    493\u001b[0m         use_environment_variables\u001b[39m=\u001b[39;49muse_environment_variables)\n\u001b[1;32m    494\u001b[0m     cfg_text_list\u001b[39m.\u001b[39mappend(_cfg_text)\n\u001b[1;32m    495\u001b[0m     env_variables\u001b[39m.\u001b[39mupdate(_env_variables)\n",
      "File \u001b[0;32m/opt/conda/lib/python3.8/site-packages/mmengine/config/config.py:458\u001b[0m, in \u001b[0;36mConfig._file2dict\u001b[0;34m(filename, use_predefined_variables, use_environment_variables)\u001b[0m\n\u001b[1;32m    447\u001b[0m \u001b[39m\u001b[39m\u001b[39m\"\"\"Transform file to variables dictionary.\u001b[39;00m\n\u001b[1;32m    448\u001b[0m \n\u001b[1;32m    449\u001b[0m \u001b[39mArgs:\u001b[39;00m\n\u001b[0;32m   (...)\u001b[0m\n\u001b[1;32m    455\u001b[0m \u001b[39m    Tuple[dict, str]: Variables dictionary and text of Config.\u001b[39;00m\n\u001b[1;32m    456\u001b[0m \u001b[39m\"\"\"\u001b[39;00m\n\u001b[1;32m    457\u001b[0m filename \u001b[39m=\u001b[39m osp\u001b[39m.\u001b[39mabspath(osp\u001b[39m.\u001b[39mexpanduser(filename))\n\u001b[0;32m--> 458\u001b[0m check_file_exist(filename)\n\u001b[1;32m    459\u001b[0m fileExtname \u001b[39m=\u001b[39m osp\u001b[39m.\u001b[39msplitext(filename)[\u001b[39m1\u001b[39m]\n\u001b[1;32m    460\u001b[0m \u001b[39mif\u001b[39;00m fileExtname \u001b[39mnot\u001b[39;00m \u001b[39min\u001b[39;00m [\u001b[39m'\u001b[39m\u001b[39m.py\u001b[39m\u001b[39m'\u001b[39m, \u001b[39m'\u001b[39m\u001b[39m.json\u001b[39m\u001b[39m'\u001b[39m, \u001b[39m'\u001b[39m\u001b[39m.yaml\u001b[39m\u001b[39m'\u001b[39m, \u001b[39m'\u001b[39m\u001b[39m.yml\u001b[39m\u001b[39m'\u001b[39m]:\n",
      "File \u001b[0;32m/opt/conda/lib/python3.8/site-packages/mmengine/utils/path.py:23\u001b[0m, in \u001b[0;36mcheck_file_exist\u001b[0;34m(filename, msg_tmpl)\u001b[0m\n\u001b[1;32m     21\u001b[0m \u001b[39mdef\u001b[39;00m \u001b[39mcheck_file_exist\u001b[39m(filename, msg_tmpl\u001b[39m=\u001b[39m\u001b[39m'\u001b[39m\u001b[39mfile \u001b[39m\u001b[39m\"\u001b[39m\u001b[39m{}\u001b[39;00m\u001b[39m\"\u001b[39m\u001b[39m does not exist\u001b[39m\u001b[39m'\u001b[39m):\n\u001b[1;32m     22\u001b[0m     \u001b[39mif\u001b[39;00m \u001b[39mnot\u001b[39;00m osp\u001b[39m.\u001b[39misfile(filename):\n\u001b[0;32m---> 23\u001b[0m         \u001b[39mraise\u001b[39;00m \u001b[39mFileNotFoundError\u001b[39;00m(msg_tmpl\u001b[39m.\u001b[39mformat(filename))\n",
      "\u001b[0;31mFileNotFoundError\u001b[0m: file \"/opt/ml/input/level2_cv_semanticsegmentation-cv-12/mmsegmentation/configs/_base_/models/segformer_mit-b0.py\" does not exist"
     ]
    }
   ],
   "source": [
    "# load config\n",
    "cfg = Config.fromfile(\"config_for_this_example.py\")\n",
    "cfg.launcher = \"none\"\n",
    "cfg.work_dir = os.path.join('./work_dirs', \"baseline\")\n",
    "\n",
    "# resume training\n",
    "cfg.resume = False\n",
    "\n",
    "runner = Runner.from_cfg(cfg)\n",
    "\n",
    "# start training\n",
    "runner.train()"
   ]
  },
  {
   "cell_type": "markdown",
   "id": "2b2bf304",
   "metadata": {},
   "source": [
    "# Result visualization"
   ]
  },
  {
   "cell_type": "code",
   "execution_count": 34,
   "id": "92658f10",
   "metadata": {},
   "outputs": [
    {
     "name": "stderr",
     "output_type": "stream",
     "text": [
      "/workspace/mmsegmentation/mmseg/models/builder.py:36: UserWarning: ``build_loss`` would be deprecated soon, please use ``mmseg.registry.MODELS.build()`` \n",
      "  warnings.warn('``build_loss`` would be deprecated soon, please use '\n",
      "/workspace/mmsegmentation/mmseg/models/losses/cross_entropy_loss.py:235: UserWarning: Default ``avg_non_ignore`` is False, if you would like to ignore the certain label and average loss over non-ignore labels, which is the same with PyTorch official cross_entropy, set ``avg_non_ignore=True``.\n",
      "  warnings.warn(\n"
     ]
    }
   ],
   "source": [
    "model = MODELS.build(cfg.model)"
   ]
  },
  {
   "cell_type": "code",
   "execution_count": 37,
   "id": "d49c1633",
   "metadata": {},
   "outputs": [
    {
     "name": "stdout",
     "output_type": "stream",
     "text": [
      "Loads checkpoint by local backend from path: work_dirs/baseline/iter_20000.pth\n"
     ]
    }
   ],
   "source": [
    "checkpoint = load_checkpoint(\n",
    "    model,\n",
    "    \"work_dirs/baseline/iter_20000.pth\",\n",
    "    map_location='cpu'\n",
    ")"
   ]
  },
  {
   "cell_type": "code",
   "execution_count": 42,
   "id": "e755b958",
   "metadata": {},
   "outputs": [],
   "source": [
    "def _preprare_data(imgs, model):\n",
    "    for t in cfg.test_pipeline:\n",
    "        if t.get('type') in ['LoadXRayAnnotations', 'TransposeAnnotations']:\n",
    "            cfg.test_pipeline.remove(t)\n",
    "\n",
    "    is_batch = True\n",
    "    if not isinstance(imgs, (list, tuple)):\n",
    "        imgs = [imgs]\n",
    "        is_batch = False\n",
    "\n",
    "    if isinstance(imgs[0], np.ndarray):\n",
    "        cfg.test_pipeline[0]['type'] = 'LoadImageFromNDArray'\n",
    "\n",
    "    # TODO: Consider using the singleton pattern to avoid building\n",
    "    # a pipeline for each inference\n",
    "    pipeline = Compose(cfg.test_pipeline)\n",
    "\n",
    "    data = defaultdict(list)\n",
    "    for img in imgs:\n",
    "        if isinstance(img, np.ndarray):\n",
    "            data_ = dict(img=img)\n",
    "        else:\n",
    "            data_ = dict(img_path=img)\n",
    "        data_ = pipeline(data_)\n",
    "        data['inputs'].append(data_['inputs'])\n",
    "        data['data_samples'].append(data_['data_samples'])\n",
    "\n",
    "    return data, is_batch"
   ]
  },
  {
   "cell_type": "code",
   "execution_count": 49,
   "id": "d167e89a",
   "metadata": {},
   "outputs": [],
   "source": [
    "# define colors\n",
    "PALETTE = [\n",
    "    (220, 20, 60), (119, 11, 32), (0, 0, 142), (0, 0, 230), (106, 0, 228),\n",
    "    (0, 60, 100), (0, 80, 100), (0, 0, 70), (0, 0, 192), (250, 170, 30),\n",
    "    (100, 170, 30), (220, 220, 0), (175, 116, 175), (250, 0, 30), (165, 42, 42),\n",
    "    (255, 77, 255), (0, 226, 252), (182, 182, 255), (0, 82, 0), (120, 166, 157),\n",
    "    (110, 76, 0), (174, 57, 255), (199, 100, 0), (72, 0, 118), (255, 179, 240),\n",
    "    (0, 125, 92), (209, 0, 151), (188, 208, 182), (0, 220, 176),\n",
    "]\n",
    "\n",
    "# utility function\n",
    "# this does not care overlap\n",
    "def label2rgb(label):\n",
    "    image_size = label.shape[1:] + (3, )\n",
    "    image = np.zeros(image_size, dtype=np.uint8)\n",
    "    \n",
    "    for i, class_label in enumerate(label):\n",
    "        image[class_label == 1] = PALETTE[i]\n",
    "        \n",
    "    return image"
   ]
  },
  {
   "cell_type": "code",
   "execution_count": 40,
   "id": "69365e5d",
   "metadata": {},
   "outputs": [],
   "source": [
    "img = cv2.imread(os.path.join(IMAGE_ROOT, \"ID001\", \"image1661130828152_R.png\"))"
   ]
  },
  {
   "cell_type": "code",
   "execution_count": 47,
   "id": "05fa951e",
   "metadata": {},
   "outputs": [],
   "source": [
    "# prepare data\n",
    "data, is_batch = _preprare_data(img, model)\n",
    "\n",
    "# forward the model\n",
    "with torch.no_grad():\n",
    "    results = model.test_step(data)"
   ]
  },
  {
   "cell_type": "code",
   "execution_count": 57,
   "id": "8ff4c899",
   "metadata": {},
   "outputs": [
    {
     "data": {
      "text/plain": [
       "<matplotlib.image.AxesImage at 0x7f916fb4a6d0>"
      ]
     },
     "execution_count": 57,
     "metadata": {},
     "output_type": "execute_result"
    },
    {
     "data": {
      "image/png": "[encoded data removed]",
      "text/plain": [
       "<Figure size 640x480 with 1 Axes>"
      ]
     },
     "metadata": {},
     "output_type": "display_data"
    }
   ],
   "source": [
    "plt.imshow(label2rgb(results[0].pred_sem_seg.data))"
   ]
  }
 ],
 "metadata": {
  "kernelspec": {
   "display_name": "Python 3 (ipykernel)",
   "language": "python",
   "name": "python3"
  },
  "language_info": {
   "codemirror_mode": {
    "name": "ipython",
    "version": 3
   },
   "file_extension": ".py",
   "mimetype": "text/x-python",
   "name": "python",
   "nbconvert_exporter": "python",
   "pygments_lexer": "ipython3",
   "version": "3.8.5"
  }
 },
 "nbformat": 4,
 "nbformat_minor": 5
}
